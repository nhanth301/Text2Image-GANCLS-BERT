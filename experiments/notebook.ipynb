{
 "cells": [
  {
   "cell_type": "code",
   "execution_count": null,
   "metadata": {
    "id": "4FrLCmSTKCcu",
    "outputId": "18206925-600e-4ab2-88c5-f3fd32831e50"
   },
   "outputs": [],
   "source": [
    "from datasets import load_dataset\n",
    "import torch\n",
    "ds = load_dataset(\"pranked03/flowers-blip-captions\")"
   ]
  },
  {
   "cell_type": "code",
   "execution_count": null,
   "metadata": {
    "id": "2XFYeA4NPgnO"
   },
   "outputs": [],
   "source": [
    "device = 'cuda' if torch.cuda.is_available() else 'cpu'"
   ]
  },
  {
   "cell_type": "code",
   "execution_count": null,
   "metadata": {
    "id": "v_LEohLkKLXc"
   },
   "outputs": [],
   "source": [
    "from transformers import AutoTokenizer, DistilBertModel\n",
    "\n",
    "tokenizer = AutoTokenizer.from_pretrained(\"distilbert-base-uncased\")\n",
    "model = DistilBertModel.from_pretrained(\"distilbert-base-uncased\")\n",
    "model.to(device)\n",
    "model.eval()\n",
    "\n",
    "# Max Pooling - Take the max value over time for every dimension.\n",
    "def max_pooling(model_output, attention_mask):\n",
    "    token_embeddings = model_output[0] #First element of model_output contains all token embeddings\n",
    "    input_mask_expanded = attention_mask.unsqueeze(-1).expand(token_embeddings.size()).float()\n",
    "    token_embeddings[input_mask_expanded == 0] = -1e9  # Set padding tokens to large negative value\n",
    "    return torch.max(token_embeddings, 1)[0]\n",
    "\n",
    "def convert_text_to_feature(sentences, max_length=50):\n",
    "    inputs = tokenizer.batch_encode_plus(\n",
    "        sentences, padding='max_length', max_length=max_length, truncation=True, return_tensors='pt'\n",
    "    )\n",
    "    input_ids = inputs['input_ids'].to(device)\n",
    "    attention_mask = inputs['attention_mask'].to(device)\n",
    "    outputs = model(input_ids=input_ids, attention_mask=attention_mask)\n",
    "    sentence_embeddings = max_pooling(outputs, attention_mask)\n",
    "    return sentence_embeddings"
   ]
  },
  {
   "cell_type": "code",
   "execution_count": null,
   "metadata": {
    "id": "HqMUabwUKQ5Z"
   },
   "outputs": [],
   "source": [
    "import torch\n",
    "from torch.utils.data import Dataset\n",
    "from PIL import Image\n",
    "import numpy as np\n",
    "\n",
    "class Text2ImageDataset(Dataset):\n",
    "    def __init__(self, dataset, transform=None, split=0):\n",
    "\n",
    "        self.transform = transform\n",
    "        self.dataset = dataset if isinstance(split, str) else dataset['train']  # Default to 'train' split\n",
    "        self.split = split\n",
    "\n",
    "        # Assuming text embeddings are precomputed or need to be computed\n",
    "        self.texts = self.dataset['text']\n",
    "        self.images = self.dataset['image']\n",
    "        self.labels = self.dataset['label']\n",
    "        self.embeddings = self._compute_embeddings(self.texts)\n",
    "\n",
    "    def _compute_embeddings(self, texts):\n",
    "\n",
    "        batch_size = 8\n",
    "        embeddings_list = [] \n",
    "\n",
    "        # Process texts in batches\n",
    "        for i in range(0, len(texts), batch_size):\n",
    "            batch_texts = texts[i:i + batch_size] \n",
    "            print(f\"Batch texts: {batch_texts}\")\n",
    "            print(f\"Batch start index: {i}\")\n",
    "\n",
    "            batch_embeddings = convert_text_to_feature(batch_texts).detach().cpu()\n",
    "            embeddings_list.append(batch_embeddings)\n",
    "            print(\"Batch done\")\n",
    "\n",
    "        embeddings = torch.cat(embeddings_list, dim=0)\n",
    "        return embeddings\n",
    "\n",
    "    def __len__(self):\n",
    "        return len(self.dataset)\n",
    "\n",
    "    def __getitem__(self, idx):\n",
    "\n",
    "        right_image = self.images[idx]  \n",
    "        if isinstance(right_image, Image.Image):\n",
    "            right_image = np.array(right_image)  \n",
    "        if self.transform is not None:\n",
    "            right_image = self.transform(right_image)\n",
    "\n",
    "        txt = self.texts[idx]\n",
    "        right_embed = self.embeddings[idx] \n",
    "\n",
    "        wrong_image = self.find_wrong_image(self.labels[idx])\n",
    "        if self.transform is not None:\n",
    "            wrong_image = self.transform(wrong_image)\n",
    "\n",
    "        sample = {\n",
    "            'right_images': torch.FloatTensor(right_image), \n",
    "            'right_embed': right_embed, \n",
    "            'wrong_images': torch.FloatTensor(wrong_image), \n",
    "            'txt': str(txt)  \n",
    "        }\n",
    "\n",
    "        return sample\n",
    "\n",
    "    def find_wrong_image(self, category):\n",
    "\n",
    "        wrong_indices = [i for i, label in enumerate(self.labels) if label != category]\n",
    "\n",
    "        wrong_idx = np.random.choice(wrong_indices)\n",
    "        wrong_image = self.images[wrong_idx]\n",
    "\n",
    "        if isinstance(wrong_image, Image.Image):\n",
    "            wrong_image = np.array(wrong_image)\n",
    "\n",
    "        return wrong_image"
   ]
  },
  {
   "cell_type": "code",
   "execution_count": null,
   "metadata": {
    "id": "ouGCWeLuO5c_"
   },
   "outputs": [],
   "source": [
    "from torchvision import transforms\n",
    "transform = transforms.Compose([\n",
    "    transforms.ToPILImage(),\n",
    "    transforms.Resize((64, 64)),\n",
    "    transforms.ToTensor(),\n",
    "])"
   ]
  },
  {
   "cell_type": "code",
   "execution_count": null,
   "metadata": {
    "id": "732Q4j2UPJP6",
    "outputId": "fa9b4b24-707f-4e68-e0c8-9f76848bf0b8"
   },
   "outputs": [],
   "source": [
    "dataset = Text2ImageDataset(ds, transform=transform)"
   ]
  },
  {
   "cell_type": "code",
   "execution_count": null,
   "metadata": {
    "id": "5aNCertzTQQQ"
   },
   "outputs": [],
   "source": [
    "from torch.utils.data import DataLoader\n",
    "\n",
    "batch_size = 128\n",
    "train_loader = DataLoader(dataset, batch_size=batch_size, shuffle=True)"
   ]
  },
  {
   "cell_type": "code",
   "execution_count": null,
   "metadata": {
    "id": "JuYA8t7CTW8N"
   },
   "outputs": [],
   "source": [
    "import torch\n",
    "import torch.nn as nn\n",
    "\n",
    "class Generator(nn.Module):\n",
    "    def __init__(self, channels, noise_dim=100, embed_dim=1024, embed_out_dim=128):\n",
    "        super(Generator, self).__init__()\n",
    "        self.channels = channels\n",
    "        self.noise_dim = noise_dim\n",
    "        self.embed_dim = embed_dim\n",
    "        self.embed_out_dim = embed_out_dim\n",
    "\n",
    "        # Text embedding layers\n",
    "        self.text_embedding = nn.Sequential(\n",
    "            nn.Linear(self.embed_dim, self.embed_out_dim),\n",
    "            nn.BatchNorm1d(self.embed_out_dim),\n",
    "            nn.LeakyReLU(0.2, inplace=True)\n",
    "        )\n",
    "\n",
    "        # Generator architecture\n",
    "        model = []\n",
    "        model += self._create_layer(self.noise_dim + self.embed_out_dim, 512, 4, stride=1, padding=0)\n",
    "        model += self._create_layer(512, 256, 4, stride=2, padding=1)\n",
    "        model += self._create_layer(256, 128, 4, stride=2, padding=1)\n",
    "        model += self._create_layer(128, 64, 4, stride=2, padding=1)\n",
    "        model += self._create_layer(64, self.channels, 4, stride=2, padding=1, output=True)\n",
    "\n",
    "        self.model = nn.Sequential(*model)\n",
    "\n",
    "    def _create_layer(self, size_in, size_out, kernel_size=4, stride=2, padding=1, output=False):\n",
    "        layers = [nn.ConvTranspose2d(size_in, size_out, kernel_size, stride=stride, padding=padding, bias=False)]\n",
    "        if output:\n",
    "            layers.append(nn.Tanh())  # Tanh activation for the output layer\n",
    "        else:\n",
    "            layers += [nn.BatchNorm2d(size_out), nn.ReLU(True)]  # Batch normalization and ReLU for other layers\n",
    "        return layers\n",
    "\n",
    "    def forward(self, noise, text):\n",
    "        # Apply text embedding to the input text\n",
    "        text = self.text_embedding(text)\n",
    "        text = text.view(text.shape[0], text.shape[1], 1, 1)  # Reshape to match the generator input size\n",
    "        z = torch.cat([text, noise], 1)  # Concatenate text embedding with noise\n",
    "        return self.model(z)\n",
    "\n",
    "\n",
    "# The Embedding model\n",
    "class Embedding(nn.Module):\n",
    "    def __init__(self, size_in, size_out):\n",
    "        super(Embedding, self).__init__()\n",
    "        self.text_embedding = nn.Sequential(\n",
    "            nn.Linear(size_in, size_out),\n",
    "            nn.BatchNorm1d(size_out),\n",
    "            nn.LeakyReLU(0.2, inplace=True)\n",
    "        )\n",
    "\n",
    "    def forward(self, x, text):\n",
    "        embed_out = self.text_embedding(text)\n",
    "        embed_out_resize = embed_out.repeat(4, 4, 1, 1).permute(2, 3, 0, 1)  # Resize to match the discriminator input size\n",
    "        out = torch.cat([x, embed_out_resize], 1)  # Concatenate text embedding with the input feature map\n",
    "        return out\n",
    "\n",
    "\n",
    "# The Discriminator model\n",
    "class Discriminator(nn.Module):\n",
    "    def __init__(self, channels, embed_dim=1024, embed_out_dim=128):\n",
    "        super(Discriminator, self).__init__()\n",
    "        self.channels = channels\n",
    "        self.embed_dim = embed_dim\n",
    "        self.embed_out_dim = embed_out_dim\n",
    "\n",
    "        # Discriminator architecture\n",
    "        self.model = nn.Sequential(\n",
    "            *self._create_layer(self.channels, 64, 4, 2, 1, normalize=False),\n",
    "            *self._create_layer(64, 128, 4, 2, 1),\n",
    "            *self._create_layer(128, 256, 4, 2, 1),\n",
    "            *self._create_layer(256, 512, 4, 2, 1)\n",
    "        )\n",
    "        self.text_embedding = Embedding(self.embed_dim, self.embed_out_dim)  # Text embedding module\n",
    "        self.output = nn.Sequential(\n",
    "            nn.Conv2d(512 + self.embed_out_dim, 1, 4, 1, 0, bias=False), nn.Sigmoid()\n",
    "        )\n",
    "\n",
    "    def _create_layer(self, size_in, size_out, kernel_size=4, stride=2, padding=1, normalize=True):\n",
    "        layers = [nn.Conv2d(size_in, size_out, kernel_size=kernel_size, stride=stride, padding=padding)]\n",
    "        if normalize:\n",
    "            layers.append(nn.BatchNorm2d(size_out))\n",
    "        layers.append(nn.LeakyReLU(0.2, inplace=True))\n",
    "        return layers\n",
    "\n",
    "    def forward(self, x, text):\n",
    "        x_out = self.model(x)  # Extract features from the input using the discriminator architecture\n",
    "        out = self.text_embedding(x_out, text)  # Apply text embedding and concatenate with the input features\n",
    "        out = self.output(out)  # Final discriminator output\n",
    "        return out.squeeze(), x_out"
   ]
  },
  {
   "cell_type": "code",
   "execution_count": null,
   "metadata": {
    "id": "oCUsPKybTaYD"
   },
   "outputs": [],
   "source": [
    "def weights_init(m):\n",
    "    classname = m.__class__.__name__\n",
    "    if classname.find('Conv') != -1:\n",
    "        m.weight.data.normal_(0.0, 0.02)\n",
    "    elif classname.find('BatchNorm') != -1:\n",
    "        m.weight.data.normal_(1.0, 0.02)\n",
    "        m.bias.data.fill_(0)"
   ]
  },
  {
   "cell_type": "code",
   "execution_count": null,
   "metadata": {
    "id": "-nguQOWATc2B",
    "outputId": "124853a7-f59c-4c3c-e5b3-1a8b02b11caf"
   },
   "outputs": [],
   "source": [
    "embed_dim = 768\n",
    "noise_dim = 100\n",
    "embed_out_dim = 64\n",
    "generator = Generator(\n",
    "    channels=3, embed_dim=embed_dim, noise_dim=noise_dim, embed_out_dim=embed_out_dim\n",
    ").to(device)\n",
    "generator.apply(weights_init)"
   ]
  },
  {
   "cell_type": "code",
   "execution_count": null,
   "metadata": {
    "id": "752Ai-vDTfZZ",
    "outputId": "6c9af0b7-c74d-421e-ff60-efa3200c304d"
   },
   "outputs": [],
   "source": [
    "discriminator = Discriminator(\n",
    "    channels=3, embed_dim=embed_dim, embed_out_dim=embed_out_dim\n",
    ").to(device)\n",
    "discriminator.apply(weights_init)"
   ]
  },
  {
   "cell_type": "code",
   "execution_count": null,
   "metadata": {
    "id": "-UYeeCVyThEE"
   },
   "outputs": [],
   "source": [
    "# setting up Adam optimizer for Generator and Discriminator\n",
    "learning_rate = 0.0002\n",
    "optimizer_G = torch.optim.Adam(\n",
    "    generator.parameters(), lr=learning_rate, betas=(0.5, 0.999)\n",
    ")\n",
    "optimizer_D = torch.optim.Adam(\n",
    "    discriminator.parameters(), lr=learning_rate, betas=(0.5, 0.999)\n",
    ")\n",
    "\n",
    "# loss functions\n",
    "criterion = nn.BCELoss()\n",
    "l2_loss = nn.MSELoss()\n",
    "l1_loss = nn.L1Loss()"
   ]
  },
  {
   "cell_type": "code",
   "execution_count": null,
   "metadata": {
    "id": "oEiO4khJTijv",
    "outputId": "f42caab0-8a1b-4873-9892-b605932d9f90"
   },
   "outputs": [],
   "source": [
    "import time\n",
    "\n",
    "num_epochs = 200\n",
    "real_label = 1.\n",
    "fake_label = 0.\n",
    "l1_coef = 50\n",
    "l2_coef = 100\n",
    "\n",
    "D_losses = []\n",
    "G_losses = []\n",
    "\n",
    "for epoch in range(num_epochs):\n",
    "    epoch_D_loss = []\n",
    "    epoch_G_loss = []\n",
    "    batch_time = time.time()\n",
    "\n",
    "    for idx, batch in enumerate(train_loader):\n",
    "\n",
    "        images = batch['right_images'].to(device)\n",
    "        wrong_images = batch['wrong_images'].to(device)\n",
    "        embeddings = batch['right_embed'].to(device)\n",
    "        batch_size = images.size(0)\n",
    "\n",
    "        # ================================================================== #\n",
    "        #                      Train the discriminator                       #\n",
    "        # ================================================================== #\n",
    "\n",
    "        # Clear gradients for the discriminator\n",
    "        optimizer_D.zero_grad()\n",
    "\n",
    "        # Generate random noise\n",
    "        noise = torch.randn(batch_size, noise_dim, 1, 1, device=device)\n",
    "\n",
    "        # Generate fake image batch with the generator\n",
    "        fake_images = generator(noise, embeddings)\n",
    "\n",
    "        # Forward pass real batch and calculate loss\n",
    "        real_out, real_act = discriminator(images, embeddings)\n",
    "        d_loss_real = criterion(real_out, torch.full_like(real_out, real_label, device=device))\n",
    "\n",
    "        # Forward pass wrong batch and calculate loss\n",
    "        wrong_out, wrong_act = discriminator(wrong_images, embeddings)\n",
    "        d_loss_wrong = criterion(wrong_out, torch.full_like(wrong_out, fake_label, device=device))\n",
    "\n",
    "        # Forward pass fake batch and calculate loss\n",
    "        fake_out, fake_act = discriminator(fake_images.detach(), embeddings)\n",
    "        d_loss_fake = criterion(fake_out, torch.full_like(fake_out, fake_label, device=device))\n",
    "\n",
    "        # Compute total discriminator loss\n",
    "        d_loss = d_loss_real + d_loss_wrong + d_loss_fake\n",
    "\n",
    "        # Backpropagate the gradients\n",
    "        d_loss.backward()\n",
    "\n",
    "        # Update the discriminator\n",
    "        optimizer_D.step()\n",
    "\n",
    "        # ================================================================== #\n",
    "        #                        Train the generator                         #\n",
    "        # ================================================================== #\n",
    "\n",
    "        # Clear gradients for the generator\n",
    "        optimizer_G.zero_grad()\n",
    "\n",
    "        # Generate new random noise\n",
    "        noise = torch.randn(batch_size, noise_dim, 1, 1, device=device)\n",
    "\n",
    "        # Generate new fake images using Generator\n",
    "        fake_images = generator(noise, embeddings)\n",
    "\n",
    "        # Get discriminator output for the new fake images\n",
    "        out_fake, act_fake = discriminator(fake_images, embeddings)\n",
    "\n",
    "        # Get discriminator output for the real images\n",
    "        out_real, act_real = discriminator(images, embeddings)\n",
    "\n",
    "        # Calculate losses\n",
    "        g_bce = criterion(out_fake, torch.full_like(out_fake, real_label, device=device))\n",
    "        g_l1 = l1_coef * l1_loss(fake_images, images)\n",
    "        g_l2 = l2_coef * l2_loss(torch.mean(act_fake, 0), torch.mean(act_real, 0).detach())\n",
    "\n",
    "        # Compute total generator loss\n",
    "        g_loss = g_bce + g_l1 + g_l2\n",
    "\n",
    "        # Backpropagate the gradients\n",
    "        g_loss.backward()\n",
    "\n",
    "        # Update the generator\n",
    "        optimizer_G.step()\n",
    "\n",
    "        epoch_D_loss.append(d_loss.item())\n",
    "        epoch_G_loss.append(g_loss.item())\n",
    "\n",
    "    print('Epoch {} [{}/{}] loss_D: {:.4f} loss_G: {:.4f} time: {:.2f}'.format(\n",
    "        epoch+1, idx+1, len(train_loader),\n",
    "        d_loss.mean().item(),\n",
    "        g_loss.mean().item(),\n",
    "        time.time() - batch_time)\n",
    "    )\n",
    "    D_losses.append(sum(epoch_D_loss)/len(epoch_D_loss))\n",
    "    G_losses.append(sum(epoch_G_loss)/len(epoch_G_loss))"
   ]
  },
  {
   "cell_type": "code",
   "execution_count": null,
   "metadata": {
    "id": "1_L3oWkZbSEB"
   },
   "outputs": [],
   "source": [
    "import os\n",
    "model_save_path = '/kaggle/working/'\n",
    "torch.save(generator.state_dict(), os.path.join(model_save_path, 'generator_bert.pth'))\n",
    "torch.save(discriminator.state_dict(), os.path.join(model_save_path,'discriminator_bert.pth'))"
   ]
  },
  {
   "cell_type": "code",
   "execution_count": null,
   "metadata": {
    "id": "AziXUfTzTpIk",
    "outputId": "be9c5cdc-f259-46a2-eb82-987006ae4277"
   },
   "outputs": [],
   "source": [
    "# generator.eval()"
   ]
  },
  {
   "cell_type": "code",
   "execution_count": null,
   "metadata": {
    "id": "cHUqCrlPZgUT"
   },
   "outputs": [],
   "source": [
    "# import matplotlib.pyplot as plt"
   ]
  },
  {
   "cell_type": "code",
   "execution_count": null,
   "metadata": {
    "id": "tA8LdLJRYXKH",
    "outputId": "81abb57d-d2cf-49bd-97d2-7687acca0806"
   },
   "outputs": [],
   "source": [
    "# sentence = 'a purple passion flower'\n",
    "# embeddings = convert_text_to_feature([str(sentence)])\n",
    "# noise = torch.randn(1, noise_dim, 1, 1, device=device)\n",
    "# pred = generator(noise, embeddings)\n",
    "# plt.imshow(pred[0].cpu().detach().permute(1, 2, 0))\n",
    "# plt.show()"
   ]
  },
  {
   "cell_type": "code",
   "execution_count": null,
   "metadata": {
    "id": "5pAsN_UmYZlu"
   },
   "outputs": [],
   "source": []
  }
 ],
 "metadata": {
  "accelerator": "GPU",
  "colab": {
   "gpuType": "T4",
   "provenance": []
  },
  "kaggle": {
   "accelerator": "gpu",
   "dataSources": [],
   "dockerImageVersionId": 30919,
   "isGpuEnabled": true,
   "isInternetEnabled": true,
   "language": "python",
   "sourceType": "notebook"
  },
  "kernelspec": {
   "display_name": "cudaenv",
   "language": "python",
   "name": "python3"
  },
  "language_info": {
   "name": "python",
   "version": "3.8.20"
  }
 },
 "nbformat": 4,
 "nbformat_minor": 4
}
